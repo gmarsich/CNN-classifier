{
 "cells": [
  {
   "cell_type": "markdown",
   "metadata": {},
   "source": [
    "# Computer Vision and Pattern Recognition - Project 3 (CNN classifier)\n",
    "#### Gaia Marsich [SM3500600]"
   ]
  },
  {
   "cell_type": "markdown",
   "metadata": {},
   "source": [
    "- [Introduction](#intro)\n",
    "<br></br>\n",
    "- [Task 1](#task1)\n",
    "<br></br>\n",
    "- [Task 2](#task2)\n",
    "<br></br>\n",
    "- [Task 3](#task3)\n",
    "    - [AlexNet (1)](#alex1)\n",
    "    - [AlexNet (2)](#alex2)\n",
    "<br></br>\n",
    "- [References](#ref)"
   ]
  },
  {
   "cell_type": "markdown",
   "metadata": {},
   "source": [
    "## Introduction <a class=\"anchor\" id=\"intro\"></a>"
   ]
  },
  {
   "cell_type": "markdown",
   "metadata": {},
   "source": [
    "This project requires the implementation of an image classifier based on convolutional neural networks. The provided dataset (from [Lazebnik et al., 2006]), contains 15 categories (office, kitchen, living room, bedroom, store, industrial, tall building, inside city, street, highway, coast, open country, mountain, forest, suburb), and is already divided in training set and test set.\n",
    "\n",
    "First of all, let's do the imports:"
   ]
  },
  {
   "cell_type": "code",
   "execution_count": 12,
   "metadata": {},
   "outputs": [],
   "source": [
    "import torch\n",
    "from torch import nn\n",
    "import torch.optim as optim\n",
    "from torch.utils.data import random_split, DataLoader\n",
    "\n",
    "from torchvision.datasets import ImageFolder\n",
    "from torchvision import models\n",
    "from torchvision.models.alexnet import AlexNet_Weights\n",
    "\n",
    "import matplotlib.pyplot as plt\n",
    "from sklearn import svm\n",
    "from sklearn.metrics import accuracy_score\n",
    "\n",
    "from side_code import CNN\n",
    "from side_code import train_test"
   ]
  },
  {
   "cell_type": "markdown",
   "metadata": {},
   "source": [
    "## Task 1 <a class=\"anchor\" id=\"task1\"></a>"
   ]
  },
  {
   "cell_type": "markdown",
   "metadata": {},
   "source": [
    "The aim of this part is to train a shallow network from scratch according to the some provided specifications."
   ]
  },
  {
   "cell_type": "code",
   "execution_count": 13,
   "metadata": {},
   "outputs": [],
   "source": [
    "# Setting a seed for reproducibility of the results\n",
    "\n",
    "torch.manual_seed(1)\n",
    "\n",
    "#  Load the dataset\n",
    "\n",
    "train_path = '/Users/Gaia/Desktop/CVPR-project/CVPR-project/data/train'\n",
    "test_path = '/Users/Gaia/Desktop/CVPR-project/CVPR-project/data/test'\n",
    "\n",
    "train = ImageFolder(root=train_path, transform=train_test.transform)\n",
    "dataset_test = ImageFolder(root=test_path, transform=train_test.transform)\n",
    "\n",
    "\n",
    "# Split the provided training set in 85% for the actual training set and 15% for validation set\n",
    "\n",
    "train_size = int(0.85 * len(train))\n",
    "val_size = len(train) - train_size\n",
    "\n",
    "dataset_train, dataset_val = random_split(train, [train_size, val_size])\n",
    "\n",
    "\n",
    "# Create the loaders\n",
    "\n",
    "batch_size = 32 # batch_size = 32 as required by the project\n",
    "train_loader = DataLoader(dataset_train, batch_size, shuffle=True) \n",
    "val_loader = DataLoader(dataset_val, batch_size, shuffle=False)\n",
    "test_loader = DataLoader(dataset_test, batch_size, shuffle=False)"
   ]
  },
  {
   "cell_type": "markdown",
   "metadata": {},
   "source": [
    "Let's see how many images we have in the three sets:"
   ]
  },
  {
   "cell_type": "code",
   "execution_count": null,
   "metadata": {},
   "outputs": [],
   "source": [
    "print(f'Number of images in the train set: {len(dataset_train)}')\n",
    "print(f'Number of images in the validation set: {len(dataset_val)}')\n",
    "print(f'Number of images in the test set: {len(dataset_test)}')"
   ]
  },
  {
   "cell_type": "markdown",
   "metadata": {},
   "source": [
    "Let's instantiate a model..."
   ]
  },
  {
   "cell_type": "code",
   "execution_count": null,
   "metadata": {},
   "outputs": [],
   "source": [
    "# Instantiate a model\n",
    "\n",
    "model = CNN.CNN1()\n",
    "\n",
    "# Set parameters for the training\n",
    "\n",
    "learning_rate = 0.0005\n",
    "loss_function = nn.CrossEntropyLoss()\n",
    "optimizer = optim.SGD(model.parameters(), momentum=0.9, lr=learning_rate) # the momentum by default is 0, but I need it different from 0"
   ]
  },
  {
   "cell_type": "markdown",
   "metadata": {},
   "source": [
    "...and do the training:"
   ]
  },
  {
   "cell_type": "code",
   "execution_count": null,
   "metadata": {},
   "outputs": [],
   "source": [
    "# Perform the training\n",
    "model_path, loss_train, loss_val, accuracies_train, accuracies_val = train_test.train_model(\n",
    "    model=model,\n",
    "    EPOCHS=48,\n",
    "    train_loader=train_loader,\n",
    "    val_loader=val_loader,\n",
    "    optimizer=optimizer,\n",
    "    loss_function=loss_function,\n",
    ")"
   ]
  },
  {
   "cell_type": "markdown",
   "metadata": {},
   "source": [
    "Here, the training is performed with the support of a validation set so that, during the training, the generalisation capability of the current network can be estimated. The analysis keeps going until the number of epochs that has been set is reached.\n",
    "The algorithm compares the model at the current epoch with the best model previously obtained (the performances are based on the validation loss). At the end, the more recent model will be the optimal one among those that had been tested."
   ]
  },
  {
   "cell_type": "markdown",
   "metadata": {},
   "source": [
    "Let's have a look at the plot of the loss during the training:"
   ]
  },
  {
   "cell_type": "code",
   "execution_count": null,
   "metadata": {},
   "outputs": [],
   "source": [
    "epochs = list(range(1, len(loss_train) + 1)) # epochs started from 0\n",
    "\n",
    "plt.plot(epochs, loss_train, label='Training loss')\n",
    "plt.plot(epochs, loss_val, label='Validation loss')\n",
    "plt.title('Training and validation losses over epochs')\n",
    "plt.xlabel('Epoch')\n",
    "plt.ylabel('Loss')\n",
    "plt.legend()\n",
    "plt.show()\n"
   ]
  },
  {
   "cell_type": "markdown",
   "metadata": {},
   "source": [
    "As expected, since the network is trained on a specific train set over and over, the loss associated to this set keeps decreasing. On the other hand, the tests done on a separate set, the validation set, report an increase of the loss."
   ]
  },
  {
   "cell_type": "markdown",
   "metadata": {},
   "source": [
    "Here it is the plot on the accuracy:"
   ]
  },
  {
   "cell_type": "code",
   "execution_count": null,
   "metadata": {},
   "outputs": [],
   "source": [
    "plt.plot(epochs, accuracies_train, label='Train accuracy')\n",
    "plt.plot(epochs, accuracies_val, label='Validation accuracy')\n",
    "plt.title('Training and validation accuracies over epochs')\n",
    "plt.xlabel('Epoch')\n",
    "plt.ylabel('Accuracy [%]')\n",
    "plt.legend()\n",
    "plt.show()"
   ]
  },
  {
   "cell_type": "markdown",
   "metadata": {},
   "source": [
    "The more the network is trained the more it is expected to perform correctly. In this graph, one can observe that the accuracies associated to the train and validation sets increase."
   ]
  },
  {
   "cell_type": "markdown",
   "metadata": {},
   "source": [
    "Let's evaluate the accuracy on the test set:"
   ]
  },
  {
   "cell_type": "code",
   "execution_count": null,
   "metadata": {},
   "outputs": [],
   "source": [
    "# Evaluate the trained network on the test set, and collect the infos for the confusion matrix\n",
    "\n",
    "train_test.perform_test(model = model, model_path = model_path, test_loader = test_loader, dataset_test = dataset_test)"
   ]
  },
  {
   "cell_type": "markdown",
   "metadata": {},
   "source": [
    "## Task 2 <a class=\"anchor\" id=\"task2\"></a>"
   ]
  },
  {
   "cell_type": "markdown",
   "metadata": {},
   "source": [
    "The previous result can be improved using some techniques. Here, I will use:\n",
    "\n",
    "* data augmentation: the only difference with the original version is the train dataset: \"new\" images are added to the initial training and validation dataset. The \"new\" images are simply the left-to-right reflections of the original train dataset.\n",
    "* batch normalization\n",
    "* different size of convolutional filters"
   ]
  },
  {
   "cell_type": "code",
   "execution_count": 14,
   "metadata": {},
   "outputs": [],
   "source": [
    "# Remark that from Task 1 we already have dataset_train, dataset_val and dataset_test\n",
    "\n",
    "# Data augmentation for the train dataset\n",
    "\n",
    "flipped_dataset_train = train_test.HorizontallyFlippedDataset(dataset_train)\n",
    "data_augmentation_dataset_train = torch.utils.data.ConcatDataset([dataset_train, flipped_dataset_train])\n",
    "\n",
    "\n",
    "# Create the loaders\n",
    "\n",
    "batch_size = 32\n",
    "data_augmentation_train_loader = DataLoader(data_augmentation_dataset_train, batch_size, shuffle=True) \n",
    "val_loader = DataLoader(dataset_val, batch_size, shuffle=False)\n",
    "test_loader = DataLoader(dataset_test, batch_size, shuffle=False)"
   ]
  },
  {
   "cell_type": "markdown",
   "metadata": {},
   "source": [
    "Now let's instantiate the model and perform the training:"
   ]
  },
  {
   "cell_type": "code",
   "execution_count": 4,
   "metadata": {},
   "outputs": [
    {
     "name": "stdout",
     "output_type": "stream",
     "text": [
      "EPOCH 1:\n",
      "LOSS: train: 2.4457862958312035, validation: 2.4203133583068848; accuracy validation set: 22.666666666666668%\n",
      "\n",
      "EPOCH 2:\n",
      "LOSS: train: 1.9632749512791634, validation: 1.9210669994354248; accuracy validation set: 28.444444444444443%\n",
      "\n",
      "EPOCH 3:\n",
      "LOSS: train: 1.6931783154606819, validation: 1.7535901069641113; accuracy validation set: 36.888888888888886%\n",
      "\n",
      "EPOCH 4:\n",
      "LOSS: train: 1.5517528042197228, validation: 1.5887044668197632; accuracy validation set: 36.44444444444444%\n",
      "\n",
      "EPOCH 5:\n",
      "LOSS: train: 1.377113761752844, validation: 1.8870010375976562; accuracy validation set: 31.555555555555557%\n",
      "\n",
      "EPOCH 6:\n",
      "LOSS: train: 1.2615653239190578, validation: 1.7855724096298218; accuracy validation set: 39.111111111111114%\n",
      "\n",
      "EPOCH 7:\n",
      "LOSS: train: 1.153866847604513, validation: 1.2539039850234985; accuracy validation set: 53.333333333333336%\n",
      "\n",
      "EPOCH 8:\n",
      "LOSS: train: 1.0663573458790778, validation: 1.1925022602081299; accuracy validation set: 55.111111111111114%\n",
      "\n",
      "EPOCH 9:\n",
      "LOSS: train: 1.028424369543791, validation: 1.4939749240875244; accuracy validation set: 44.0%\n",
      "\n",
      "EPOCH 10:\n",
      "LOSS: train: 0.92957554012537, validation: 1.600030779838562; accuracy validation set: 40.0%\n",
      "\n",
      "EPOCH 11:\n",
      "LOSS: train: 0.8802145160734653, validation: 1.2299529314041138; accuracy validation set: 56.44444444444444%\n",
      "\n",
      "EPOCH 12:\n",
      "LOSS: train: 0.8105889707803726, validation: 1.3644018173217773; accuracy validation set: 48.0%\n",
      "\n",
      "EPOCH 13:\n",
      "LOSS: train: 0.7607840426266194, validation: 2.458909511566162; accuracy validation set: 27.11111111111111%\n",
      "\n",
      "EPOCH 14:\n",
      "LOSS: train: 0.6922008045017719, validation: 1.1170581579208374; accuracy validation set: 58.22222222222222%\n",
      "\n",
      "EPOCH 15:\n",
      "LOSS: train: 0.6662595894187688, validation: 1.150172233581543; accuracy validation set: 58.666666666666664%\n",
      "\n",
      "EPOCH 16:\n",
      "LOSS: train: 0.6287573575973511, validation: 1.3366481065750122; accuracy validation set: 54.22222222222222%\n",
      "\n",
      "EPOCH 17:\n",
      "LOSS: train: 0.5845831196755171, validation: 1.0767252445220947; accuracy validation set: 55.111111111111114%\n",
      "\n",
      "EPOCH 18:\n",
      "LOSS: train: 0.5478692829608918, validation: 1.2627716064453125; accuracy validation set: 55.111111111111114%\n",
      "\n",
      "EPOCH 19:\n",
      "LOSS: train: 0.5183544680476189, validation: 1.151713490486145; accuracy validation set: 58.22222222222222%\n",
      "\n",
      "EPOCH 20:\n",
      "LOSS: train: 0.47719901278614996, validation: 1.1294806003570557; accuracy validation set: 58.666666666666664%\n",
      "\n",
      "EPOCH 21:\n",
      "LOSS: train: 0.4413529630750418, validation: 1.5214273929595947; accuracy validation set: 47.55555555555556%\n",
      "\n",
      "EPOCH 22:\n",
      "LOSS: train: 0.46794485449790957, validation: 1.3955047130584717; accuracy validation set: 50.22222222222222%\n",
      "\n",
      "EPOCH 23:\n",
      "LOSS: train: 0.4207650851458311, validation: 1.256055235862732; accuracy validation set: 56.44444444444444%\n",
      "\n",
      "EPOCH 24:\n",
      "LOSS: train: 0.38640215490013363, validation: 1.1956465244293213; accuracy validation set: 56.0%\n",
      "\n",
      "EPOCH 25:\n",
      "LOSS: train: 0.36099488716572525, validation: 1.0630204677581787; accuracy validation set: 61.333333333333336%\n",
      "\n",
      "EPOCH 26:\n",
      "LOSS: train: 0.3318060541525483, validation: 1.0315133333206177; accuracy validation set: 57.77777777777778%\n",
      "\n",
      "EPOCH 27:\n",
      "LOSS: train: 0.29968249555677173, validation: 1.2674633264541626; accuracy validation set: 56.0%\n",
      "\n",
      "EPOCH 28:\n",
      "LOSS: train: 0.30045444555580614, validation: 1.1643028259277344; accuracy validation set: 58.22222222222222%\n",
      "\n",
      "EPOCH 29:\n",
      "LOSS: train: 0.28761972598731517, validation: 1.1698408126831055; accuracy validation set: 62.22222222222222%\n",
      "\n",
      "EPOCH 30:\n",
      "LOSS: train: 0.25844007506966593, validation: 1.1180472373962402; accuracy validation set: 56.0%\n",
      "\n",
      "EPOCH 31:\n",
      "LOSS: train: 0.23837066655978562, validation: 1.3845773935317993; accuracy validation set: 54.666666666666664%\n",
      "\n",
      "EPOCH 32:\n",
      "LOSS: train: 0.2370781809091568, validation: 1.3466235399246216; accuracy validation set: 57.333333333333336%\n",
      "\n",
      "EPOCH 33:\n",
      "LOSS: train: 0.23191769905388354, validation: 1.1717638969421387; accuracy validation set: 57.77777777777778%\n",
      "\n",
      "EPOCH 34:\n",
      "LOSS: train: 0.20997223369777201, validation: 1.0559529066085815; accuracy validation set: 60.44444444444444%\n",
      "\n",
      "EPOCH 35:\n",
      "LOSS: train: 0.21336182681843638, validation: 1.2330628633499146; accuracy validation set: 56.0%\n",
      "\n",
      "EPOCH 36:\n",
      "LOSS: train: 0.21113095907494425, validation: 1.3844857215881348; accuracy validation set: 51.55555555555556%\n",
      "\n",
      "EPOCH 37:\n",
      "LOSS: train: 0.19750883132219316, validation: 1.1535098552703857; accuracy validation set: 56.44444444444444%\n",
      "\n",
      "EPOCH 38:\n",
      "LOSS: train: 0.17630200050771236, validation: 1.1146444082260132; accuracy validation set: 59.55555555555556%\n",
      "\n",
      "EPOCH 39:\n",
      "LOSS: train: 0.15154411671683193, validation: 1.1535207033157349; accuracy validation set: 61.333333333333336%\n",
      "\n",
      "EPOCH 40:\n",
      "LOSS: train: 0.1598051772452891, validation: 1.1856378316879272; accuracy validation set: 58.22222222222222%\n",
      "\n",
      "EPOCH 41:\n",
      "LOSS: train: 0.15181859135627745, validation: 1.101651906967163; accuracy validation set: 63.111111111111114%\n",
      "\n",
      "EPOCH 42:\n",
      "LOSS: train: 0.12734280778095125, validation: 1.1898200511932373; accuracy validation set: 59.55555555555556%\n",
      "\n",
      "EPOCH 43:\n",
      "LOSS: train: 0.14142662836238742, validation: 1.2610151767730713; accuracy validation set: 52.0%\n",
      "\n",
      "EPOCH 44:\n",
      "LOSS: train: 0.12788352109491824, validation: 1.1360732316970825; accuracy validation set: 60.0%\n",
      "\n",
      "EPOCH 45:\n",
      "LOSS: train: 0.11161522716283798, validation: 1.146092176437378; accuracy validation set: 60.0%\n",
      "\n",
      "EPOCH 46:\n",
      "LOSS: train: 0.11522888438776135, validation: 1.161317229270935; accuracy validation set: 63.111111111111114%\n",
      "\n",
      "EPOCH 47:\n",
      "LOSS: train: 0.12258994155563414, validation: 1.3703712224960327; accuracy validation set: 53.77777777777778%\n",
      "\n",
      "EPOCH 48:\n",
      "LOSS: train: 0.10629376084543765, validation: 1.152966022491455; accuracy validation set: 58.666666666666664%\n",
      "\n"
     ]
    }
   ],
   "source": [
    "# Instantiate a model\n",
    "\n",
    "model_data_augmentation = CNN.CNN2()\n",
    "\n",
    "\n",
    "# Set parameters for the training\n",
    "\n",
    "learning_rate = 0.0005\n",
    "loss_function = nn.CrossEntropyLoss()\n",
    "optimizer = optim.SGD(model_data_augmentation.parameters(), momentum=0.9, lr=learning_rate) # the momentum by default is 0, but I need it different from 0\n",
    "\n",
    "# Perform the training\n",
    "task2_model_path, task2_loss_train, task2_loss_val, task2_accuracies_train, task2_accuracies_val = train_test.train_model(model = model_data_augmentation, EPOCHS = 48, train_loader = data_augmentation_train_loader, val_loader = val_loader, optimizer = optimizer, loss_function = loss_function)"
   ]
  },
  {
   "cell_type": "code",
   "execution_count": 5,
   "metadata": {},
   "outputs": [
    {
     "name": "stdout",
     "output_type": "stream",
     "text": [
      "Accuracy of the network on the test images: 58 %\n"
     ]
    },
    {
     "data": {
      "image/png": "[encoded data removed]",
      "text/plain": [
       "<Figure size 500x500 with 2 Axes>"
      ]
     },
     "metadata": {},
     "output_type": "display_data"
    }
   ],
   "source": [
    "# Evaluate the trained network on the test set\n",
    "\n",
    "train_test.perform_test(model = model_data_augmentation, model_path = task2_model_path, test_loader = test_loader, dataset_test = dataset_test)"
   ]
  },
  {
   "cell_type": "markdown",
   "metadata": {},
   "source": [
    "I will now investigate what happens using also:\n",
    "\n",
    "* Adam optimizer\n",
    "* dropout "
   ]
  },
  {
   "cell_type": "code",
   "execution_count": 15,
   "metadata": {},
   "outputs": [
    {
     "name": "stdout",
     "output_type": "stream",
     "text": [
      "EPOCH 1:\n",
      "LOSS: train: 2.2554759815335275, validation: 2.2128899097442627; accuracy validation set: 21.333333333333332%\n",
      "\n",
      "EPOCH 2:\n",
      "LOSS: train: 1.6786828473210336, validation: 2.9595797061920166; accuracy validation set: 23.555555555555557%\n",
      "\n",
      "EPOCH 3:\n",
      "LOSS: train: 1.3652023755013942, validation: 1.58806574344635; accuracy validation set: 39.55555555555556%\n",
      "\n",
      "EPOCH 4:\n",
      "LOSS: train: 1.1840786017477511, validation: 2.1946840286254883; accuracy validation set: 37.333333333333336%\n",
      "\n",
      "EPOCH 5:\n",
      "LOSS: train: 1.0352045476436615, validation: 1.114153504371643; accuracy validation set: 56.888888888888886%\n",
      "\n",
      "EPOCH 6:\n",
      "LOSS: train: 0.9086109027266502, validation: 2.3366832733154297; accuracy validation set: 30.666666666666668%\n",
      "\n",
      "EPOCH 7:\n",
      "LOSS: train: 0.8070680677890778, validation: 1.5734882354736328; accuracy validation set: 43.55555555555556%\n",
      "\n",
      "EPOCH 8:\n",
      "LOSS: train: 0.7743792220950126, validation: 2.491551399230957; accuracy validation set: 26.22222222222222%\n",
      "\n",
      "EPOCH 9:\n",
      "LOSS: train: 0.652403463050723, validation: 1.0354715585708618; accuracy validation set: 60.0%\n",
      "\n",
      "EPOCH 10:\n",
      "LOSS: train: 0.5993483010679483, validation: 1.242125391960144; accuracy validation set: 54.22222222222222%\n",
      "\n",
      "EPOCH 11:\n",
      "LOSS: train: 0.5393170151859522, validation: 1.4662898778915405; accuracy validation set: 49.77777777777778%\n",
      "\n",
      "EPOCH 12:\n",
      "LOSS: train: 0.4854176189750433, validation: 1.2322992086410522; accuracy validation set: 57.77777777777778%\n",
      "\n",
      "EPOCH 13:\n",
      "LOSS: train: 0.41137645617127416, validation: 2.4647622108459473; accuracy validation set: 36.888888888888886%\n",
      "\n",
      "EPOCH 14:\n",
      "LOSS: train: 0.41895978786051274, validation: 1.197830080986023; accuracy validation set: 56.0%\n",
      "\n",
      "EPOCH 15:\n",
      "LOSS: train: 0.3631355479359627, validation: 1.3441721200942993; accuracy validation set: 56.0%\n",
      "\n",
      "EPOCH 16:\n",
      "LOSS: train: 0.318560791388154, validation: 1.4367355108261108; accuracy validation set: 53.77777777777778%\n",
      "\n",
      "EPOCH 17:\n",
      "LOSS: train: 0.3041589917615056, validation: 1.9751472473144531; accuracy validation set: 44.0%\n",
      "\n",
      "EPOCH 18:\n",
      "LOSS: train: 0.2887647124007344, validation: 4.276446342468262; accuracy validation set: 28.0%\n",
      "\n",
      "EPOCH 19:\n",
      "LOSS: train: 0.2625482208095491, validation: 2.0325708389282227; accuracy validation set: 44.44444444444444%\n",
      "\n",
      "EPOCH 20:\n",
      "LOSS: train: 0.24901220928877593, validation: 1.5531322956085205; accuracy validation set: 52.44444444444444%\n",
      "\n",
      "EPOCH 21:\n",
      "LOSS: train: 0.25116465967148544, validation: 1.8206630945205688; accuracy validation set: 47.111111111111114%\n",
      "\n",
      "EPOCH 22:\n",
      "LOSS: train: 0.20537188490852715, validation: 1.6076792478561401; accuracy validation set: 53.333333333333336%\n",
      "\n",
      "EPOCH 23:\n",
      "LOSS: train: 0.19946081675589084, validation: 1.1993012428283691; accuracy validation set: 60.44444444444444%\n",
      "\n",
      "EPOCH 24:\n",
      "LOSS: train: 0.16698953891173005, validation: 1.727328896522522; accuracy validation set: 57.77777777777778%\n",
      "\n",
      "EPOCH 25:\n",
      "LOSS: train: 0.16066779945977033, validation: 1.2914016246795654; accuracy validation set: 58.22222222222222%\n",
      "\n",
      "EPOCH 26:\n",
      "LOSS: train: 0.15576557647436856, validation: 1.4324548244476318; accuracy validation set: 56.888888888888886%\n",
      "\n",
      "EPOCH 27:\n",
      "LOSS: train: 0.13816780420020222, validation: 3.3500235080718994; accuracy validation set: 29.77777777777778%\n",
      "\n",
      "EPOCH 28:\n",
      "LOSS: train: 0.1455535718705505, validation: 1.3516035079956055; accuracy validation set: 58.22222222222222%\n",
      "\n",
      "EPOCH 29:\n",
      "LOSS: train: 0.12291578440926969, validation: 1.9606858491897583; accuracy validation set: 47.111111111111114%\n",
      "\n",
      "EPOCH 30:\n",
      "LOSS: train: 0.11938000172376632, validation: 1.472809076309204; accuracy validation set: 58.666666666666664%\n",
      "\n",
      "EPOCH 31:\n",
      "LOSS: train: 0.11315885949879885, validation: 2.5513367652893066; accuracy validation set: 41.333333333333336%\n",
      "\n",
      "EPOCH 32:\n",
      "LOSS: train: 0.11292652455158532, validation: 1.8235588073730469; accuracy validation set: 55.55555555555556%\n",
      "\n",
      "EPOCH 33:\n",
      "LOSS: train: 0.1052525990176946, validation: 2.0748753547668457; accuracy validation set: 49.333333333333336%\n",
      "\n",
      "EPOCH 34:\n",
      "LOSS: train: 0.1167732463683933, validation: 1.391071081161499; accuracy validation set: 62.22222222222222%\n",
      "\n",
      "EPOCH 35:\n",
      "LOSS: train: 0.12056550811976194, validation: 2.6620821952819824; accuracy validation set: 40.44444444444444%\n",
      "\n",
      "EPOCH 36:\n",
      "LOSS: train: 0.10722019178792834, validation: 2.3092384338378906; accuracy validation set: 44.888888888888886%\n",
      "\n",
      "EPOCH 37:\n",
      "LOSS: train: 0.1036363096209243, validation: 1.4341803789138794; accuracy validation set: 60.888888888888886%\n",
      "\n",
      "EPOCH 38:\n",
      "LOSS: train: 0.10627529392950237, validation: 1.6132676601409912; accuracy validation set: 52.0%\n",
      "\n",
      "EPOCH 39:\n",
      "LOSS: train: 0.09667683390434831, validation: 1.4111359119415283; accuracy validation set: 63.111111111111114%\n",
      "\n",
      "EPOCH 40:\n",
      "LOSS: train: 0.06988931333180518, validation: 2.3724799156188965; accuracy validation set: 48.44444444444444%\n",
      "\n",
      "EPOCH 41:\n",
      "LOSS: train: 0.06734979007160291, validation: 1.6272112131118774; accuracy validation set: 58.22222222222222%\n",
      "\n",
      "EPOCH 42:\n",
      "LOSS: train: 0.06865455165971071, validation: 2.0050301551818848; accuracy validation set: 54.666666666666664%\n",
      "\n",
      "EPOCH 43:\n",
      "LOSS: train: 0.08376950917299837, validation: 2.5772523880004883; accuracy validation set: 43.55555555555556%\n",
      "\n",
      "EPOCH 44:\n",
      "LOSS: train: 0.09561167382635176, validation: 1.634421944618225; accuracy validation set: 60.44444444444444%\n",
      "\n",
      "EPOCH 45:\n",
      "LOSS: train: 0.10528535513440147, validation: 2.1146700382232666; accuracy validation set: 49.333333333333336%\n",
      "\n",
      "EPOCH 46:\n",
      "LOSS: train: 0.0862458331277594, validation: 1.5986491441726685; accuracy validation set: 62.22222222222222%\n",
      "\n",
      "EPOCH 47:\n",
      "LOSS: train: 0.08030404765158891, validation: 2.1036536693573; accuracy validation set: 53.77777777777778%\n",
      "\n",
      "EPOCH 48:\n",
      "LOSS: train: 0.05106167177436873, validation: 1.916963815689087; accuracy validation set: 53.333333333333336%\n",
      "\n"
     ]
    }
   ],
   "source": [
    "# Instantiate a model\n",
    "\n",
    "model_data_augmentation_1 = CNN.CNN3()\n",
    "\n",
    "\n",
    "# Set parameters for the training\n",
    "\n",
    "learning_rate = 0.0005\n",
    "loss_function = nn.CrossEntropyLoss()\n",
    "optimizer = optim.Adam(model_data_augmentation_1.parameters(), lr=learning_rate)\n",
    "\n",
    "# Perform the training\n",
    "task2_2_model_path, task2_2_loss_train, task2_2_loss_val, task2_2_accuracies_train, task2_2_accuracies_val = train_test.train_model(model = model_data_augmentation_1, EPOCHS = 48, train_loader = data_augmentation_train_loader, val_loader = val_loader, optimizer = optimizer, loss_function = loss_function)"
   ]
  },
  {
   "cell_type": "code",
   "execution_count": 16,
   "metadata": {},
   "outputs": [
    {
     "name": "stdout",
     "output_type": "stream",
     "text": [
      "Accuracy of the network on the test images: 57 %\n"
     ]
    },
    {
     "data": {
      "image/png": "[encoded data removed]",
      "text/plain": [
       "<Figure size 500x500 with 2 Axes>"
      ]
     },
     "metadata": {},
     "output_type": "display_data"
    }
   ],
   "source": [
    "# Evaluate the trained network on the test set\n",
    "\n",
    "train_test.perform_test(model = model_data_augmentation_1, model_path = task2_2_model_path, test_loader = test_loader, dataset_test = dataset_test)"
   ]
  },
  {
   "cell_type": "markdown",
   "metadata": {},
   "source": [
    "## Task 3 <a class=\"anchor\" id=\"task3\"></a>"
   ]
  },
  {
   "cell_type": "markdown",
   "metadata": {},
   "source": [
    "In this section the transfer learning based on a pre-trained network (here, AlexNet in particular) is used."
   ]
  },
  {
   "cell_type": "markdown",
   "metadata": {},
   "source": [
    "### Alexnet (1) <a class=\"anchor\" id=\"alex1\"></a>"
   ]
  },
  {
   "cell_type": "markdown",
   "metadata": {},
   "source": [
    "The weights of all the layers but the last fully connected layer will be frozen and the weights of the last layer will be fine-tuned."
   ]
  },
  {
   "cell_type": "code",
   "execution_count": null,
   "metadata": {},
   "outputs": [],
   "source": [
    "# Load the dataset; remark that AlexNet requires 3 channels as input (so, RGB)\n",
    "\n",
    "train_path = '/Users/Gaia/Desktop/CVPR-project/CVPR-project/data/train'\n",
    "test_path = '/Users/Gaia/Desktop/CVPR-project/CVPR-project/data/test'\n",
    "\n",
    "train_ALEXNET = ImageFolder(root=train_path, transform=train_test.transform_ALEXNET)\n",
    "dataset_test_ALEXNET = ImageFolder(root=test_path, transform=train_test.transform_ALEXNET)\n",
    "\n",
    "\n",
    "# Split the provided training set in 85% for training set and 15% for validation set\n",
    "\n",
    "train_size_ALEXNET = int(0.85 * len(train_ALEXNET))\n",
    "val_size_ALEXNET = len(train_ALEXNET) - train_size_ALEXNET\n",
    "\n",
    "dataset_train_ALEXNET, dataset_val_ALEXNET = random_split(train_ALEXNET, [train_size_ALEXNET, val_size_ALEXNET])\n",
    "\n",
    "# Data augmentation\n",
    "\n",
    "flipped_dataset_train_ALEXNET = train_test.HorizontallyFlippedDataset(dataset_train_ALEXNET)\n",
    "data_augmentation_dataset_train_ALEXNET = torch.utils.data.ConcatDataset([dataset_train_ALEXNET, flipped_dataset_train_ALEXNET])\n",
    "\n",
    "\n",
    "# Create the loaders\n",
    "\n",
    "batch_size = 32\n",
    "data_augmentation_train_loader_ALEXNET = DataLoader(data_augmentation_dataset_train_ALEXNET, batch_size, shuffle=True) \n",
    "val_loader_ALEXNET = DataLoader(dataset_val_ALEXNET, batch_size, shuffle=False)\n",
    "test_loader_ALEXNET = DataLoader(dataset_test_ALEXNET, batch_size, shuffle=False)"
   ]
  },
  {
   "cell_type": "code",
   "execution_count": null,
   "metadata": {},
   "outputs": [],
   "source": [
    "alexnet = models.alexnet(weights=AlexNet_Weights.DEFAULT) # weights=AlexNet_Weights.DEFAULT instead of pretrained=True as suggested by a warning\n",
    "\n",
    "for param in alexnet.parameters(): # freeze all layers except the last fully connected layer\n",
    "    param.requires_grad = False\n",
    "\n",
    "\n",
    "in_features = alexnet.classifier[6].in_features # modify the last fully connected layer for your task\n",
    "alexnet.classifier[6] = nn.Linear(in_features, 15)\n",
    "\n",
    "for param in alexnet.classifier[6].parameters():\n",
    "    param.requires_grad = True\n",
    "\n",
    "loss_function = nn.CrossEntropyLoss()\n",
    "optimizer = optim.SGD(alexnet.parameters(), lr=0.001, momentum=0.9)\n",
    "\n",
    "\n",
    "task3_model_path, task3_loss_train, task3_loss_val, task3_accuracies_val = train_test.train_model(model = alexnet, EPOCHS = 8, train_loader = data_augmentation_train_loader_ALEXNET, val_loader = val_loader_ALEXNET, optimizer = optimizer, loss_function = loss_function)"
   ]
  },
  {
   "cell_type": "code",
   "execution_count": null,
   "metadata": {},
   "outputs": [],
   "source": [
    "train_test.perform_test(model = alexnet, model_path = task3_model_path, test_loader = test_loader_ALEXNET, dataset_test = dataset_test_ALEXNET)"
   ]
  },
  {
   "cell_type": "markdown",
   "metadata": {},
   "source": [
    "### Alexnet (2) <a class=\"anchor\" id=\"alex2\"></a>"
   ]
  },
  {
   "cell_type": "markdown",
   "metadata": {},
   "source": [
    "The pre-trained network will be employed as a feature extractor, accessing the activation of an intermediate layer (for instance, one of the fully connected layers); a multiclass linear SVM will be trained."
   ]
  },
  {
   "cell_type": "code",
   "execution_count": null,
   "metadata": {},
   "outputs": [],
   "source": [
    "# Load the dataset; remark that AlexNet requires 3 channels as input (so, RGB)\n",
    "\n",
    "train_path = '/Users/Gaia/Desktop/CVPR-project/CVPR-project/data/train'\n",
    "test_path = '/Users/Gaia/Desktop/CVPR-project/CVPR-project/data/test'\n",
    "\n",
    "dataset_train_ALEXNET_2 = ImageFolder(root=train_path, transform=train_test.transform_ALEXNET)\n",
    "dataset_test_ALEXNET_2 = ImageFolder(root=test_path, transform=train_test.transform_ALEXNET)\n",
    "\n",
    "\n",
    "# Data augmentation\n",
    "\n",
    "flipped_dataset_train_ALEXNET_2 = train_test.HorizontallyFlippedDataset(dataset_train_ALEXNET_2)\n",
    "data_augmentation_dataset_train_ALEXNET_2 = torch.utils.data.ConcatDataset([dataset_train_ALEXNET_2, flipped_dataset_train_ALEXNET_2])\n",
    "\n",
    "\n",
    "# Create the loaders\n",
    "\n",
    "batch_size = 32\n",
    "data_augmentation_train_loader_ALEXNET_2 = DataLoader(data_augmentation_dataset_train_ALEXNET_2, batch_size, shuffle=True) \n",
    "test_loader_ALEXNET_2 = DataLoader(dataset_test_ALEXNET_2, batch_size, shuffle=False)"
   ]
  },
  {
   "cell_type": "code",
   "execution_count": null,
   "metadata": {},
   "outputs": [],
   "source": [
    "alexnet = models.alexnet(weights=AlexNet_Weights.DEFAULT)\n",
    "\n",
    "for param in alexnet.parameters(): # freezes the parameters of the pre-trained model; these parameters will not be updated during the training process\n",
    "    param.requires_grad = False\n",
    "\n",
    "train_features, train_labels = train_test.extract(alexnet, data_augmentation_train_loader_ALEXNET_2) #TOFO: dunque davvero non serve il val?\n",
    "test_features, test_labels = train_test.extract(alexnet, test_loader_ALEXNET_2)\n",
    "\n",
    "\n",
    "# Train a multiclass linear SVM\n",
    "\n",
    "SVM = svm.LinearSVC(C=1.0, max_iter=1000) #TODO: forse modificare i parametri #TODO: che approccio esattamente è stato usato? La DAG?\n",
    "SVM.fit(train_features, train_labels)\n",
    "\n",
    "\n",
    "# Evaluate the SVM on the test set\n",
    "\n",
    "y_pred = SVM.predict(test_features)\n",
    "accuracy = accuracy_score(test_labels, y_pred)\n",
    "print(f'Test Accuracy: {accuracy * 100:.2f}%')"
   ]
  },
  {
   "cell_type": "markdown",
   "metadata": {},
   "source": [
    "## References <a class=\"anchor\" id=\"ref\"></a>"
   ]
  },
  {
   "cell_type": "markdown",
   "metadata": {},
   "source": [
    "[1] https://dingyan89.medium.com/calculating-parameters-of-convolutional-and-fully-connected-layers-with-keras-186590df36c6"
   ]
  }
 ],
 "metadata": {
  "kernelspec": {
   "display_name": "Python 3",
   "language": "python",
   "name": "python3"
  },
  "language_info": {
   "codemirror_mode": {
    "name": "ipython",
    "version": 3
   },
   "file_extension": ".py",
   "mimetype": "text/x-python",
   "name": "python",
   "nbconvert_exporter": "python",
   "pygments_lexer": "ipython3",
   "version": "3.11.5"
  }
 },
 "nbformat": 4,
 "nbformat_minor": 2
}
