{
 "cells": [
  {
   "cell_type": "markdown",
   "metadata": {},
   "source": [
    "# Computer Vision and Pattern Recognition - Project 3 (CNN classifier)\n",
    "#### Gaia Marsich [SM3500600]"
   ]
  },
  {
   "cell_type": "markdown",
   "metadata": {},
   "source": [
    "* [Introduction](#intro)\n",
    "* [1. Task 1](#1-bullet)\n",
    "    * [1.1. Data augmentation](#data-aug)\n",
    "* [2. Task 2](#2-bullet)\n",
    "* [3. Task 3](#3-bullet)\n",
    "* [References](#ref)"
   ]
  },
  {
   "cell_type": "markdown",
   "metadata": {},
   "source": [
    "## Introduction <a class=\"anchor\" id=\"intro\"></a>"
   ]
  },
  {
   "cell_type": "markdown",
   "metadata": {},
   "source": [
    "This project requires the implementation of an image classifier based on convolutional neural networks. The provided dataset (from [Lazebnik et al., 2006]), contains 15 categories (office, kitchen, living room, bedroom, store, industrial, tall building, inside city, street, highway, coast, open country, mountain, forest, suburb), and is already divided in training set and test set.\n",
    "\n",
    "First of all, let's do the imports:"
   ]
  },
  {
   "cell_type": "code",
   "execution_count": 1,
   "metadata": {},
   "outputs": [],
   "source": [
    "import torch\n",
    "from torch import nn\n",
    "\n",
    "import os\n",
    "from torchvision import transforms\n",
    "from torchvision.datasets import ImageFolder\n",
    "from torch.utils.data import random_split, DataLoader\n",
    "import torch.optim as optim\n",
    "import torch.nn.init as init\n",
    "import numpy as np\n",
    "from datetime import datetime\n",
    "import matplotlib.pyplot as plt\n",
    "from PIL import ImageOps\n",
    "\n",
    "from sklearn.metrics import confusion_matrix\n",
    "import seaborn as sn\n",
    "import pandas as pd\n",
    "from torch.utils.data import Dataset"
   ]
  },
  {
   "cell_type": "markdown",
   "metadata": {},
   "source": [
    "## Task 1 <a class=\"anchor\" id=\"1-bullet\"></a>"
   ]
  },
  {
   "cell_type": "code",
   "execution_count": 2,
   "metadata": {},
   "outputs": [],
   "source": [
    "# set a seed for reproducibility\n",
    "torch.manual_seed(1)\n",
    "\n",
    "# Build the network\n",
    "\n",
    "class CNN(nn.Module):\n",
    "\n",
    "    # A model will have an __init__() function, where it instantiates its layers\n",
    "\n",
    "    def __init__(self):\n",
    "        super(CNN, self).__init__() # the constructor of the parent class (nn.Module) is called to initialize the model properly.\n",
    "\n",
    "        # Convolutional layer 1: in_channels=1 because we have a greyscale\n",
    "        self.conv1 = nn.Conv2d(in_channels=1, out_channels=8, kernel_size=3, stride=1) # from [1] we get the formula: output = ((input - kernel_size + 2*padding)/stride) + 1 => 62*62\n",
    "        # ReLU activation after conv1\n",
    "        self.relu1 = nn.ReLU() # output: 62*62\n",
    "        # Max pooling layer 1\n",
    "        self.maxpool1 = nn.MaxPool2d(kernel_size=2, stride=2) # output: 31*31 (from 62/2)\n",
    "\n",
    "        # Convolutional layer 2\n",
    "        self.conv2 = nn.Conv2d(in_channels=8, out_channels=16, kernel_size=3, stride=1) # from [1] we know that output: 29*29\n",
    "        # ReLU activation after conv2\n",
    "        self.relu2 = nn.ReLU() # output: 29*29\n",
    "        # Max pooling layer 2\n",
    "        self.maxpool2 = nn.MaxPool2d(kernel_size=2, stride=2) # output: 14*14 (from the test in dim_images.ipynb)\n",
    "\n",
    "        # Convolutional layer 3\n",
    "        self.conv3 = nn.Conv2d(in_channels=16, out_channels=32, kernel_size=3, stride=1) # from [1] we know that output: 12*12\n",
    "        # ReLU activation after conv3  \n",
    "        self.relu3 = nn.ReLU() # output: 12*12\n",
    "\n",
    "        # Fully connected layer. 32: number of channels; 12, 12: height and width of the feature map\n",
    "        self.fc = nn.Linear(32 * 12 * 12, 15)\n",
    "        # Classification layer\n",
    "        #self.output = nn.CrossEntropyLoss() #TODO: ma è giusto da mettere? Al momento è tolto\n",
    "\n",
    "        self.initialize_weights()\n",
    "\n",
    "\n",
    "\n",
    "\n",
    "    def initialize_weights(self):       #TODO: the professor mentioned to avoid normalization, what should I do?\n",
    "        for module in self.modules(): # self.modules() comes from nn.Module; to recursively iterate over all the modules\n",
    "            if isinstance(module, nn.Conv2d) or isinstance(module, nn.Linear):\n",
    "                init.normal_(module.weight, mean=0, std=0.01) # initial weights drawn from a Gaussian distribution having a mean of 0 and a standard deviation of 0.01\n",
    "                init.constant_(module.bias, 0) # set the bias to 0\n",
    "\n",
    "\n",
    "\n",
    "\n",
    "    # A model will have a forward() function\n",
    "        \n",
    "    def forward(self, x):\n",
    "        x = self.conv1(x)\n",
    "        x = self.relu1(x)\n",
    "        x = self.maxpool1(x)\n",
    "\n",
    "        x = self.conv2(x)\n",
    "        x = self.relu2(x)\n",
    "        x = self.maxpool2(x)\n",
    "\n",
    "        x = self.conv3(x)\n",
    "        x = self.relu3(x)\n",
    "\n",
    "        x = x.view(-1, 32 * 12 * 12)  # flatten the tensor before passing to fully connected layers (the size -1 is inferred from other dimensions)\n",
    "        \n",
    "        x = self.fc(x)\n",
    "        #x = self.output(x) #TODO: in caso, da eliminare\n",
    "\n",
    "        return x"
   ]
  },
  {
   "cell_type": "code",
   "execution_count": 3,
   "metadata": {},
   "outputs": [],
   "source": [
    "# Load the dataset\n",
    "\n",
    "train_path = '/Users/Gaia/Desktop/CVPR-project/CVPR-project/data/train'\n",
    "test_path = '/Users/Gaia/Desktop/CVPR-project/CVPR-project/data/test'\n",
    "\n",
    "def transform(image):\n",
    "    resize = transforms.Compose([transforms.Resize([64,64]), # resize the images as 64x64\n",
    "                                 transforms.ToTensor(), # to get a PyTorch tensor. The pixels' values will be scaled from the range [0, 255] to the range [0.0, 1.0]\n",
    "                                 transforms.Grayscale()]) # the image will just have one channel\n",
    "    resized_image = resize(image)\n",
    "    resized_image = resized_image * 255.0 # revert the normalization, i.e., go back to range [0, 255]\n",
    "    return resized_image\n",
    "\n",
    "train = ImageFolder(root=train_path, transform=transform)\n",
    "dataset_test = ImageFolder(root=test_path, transform=transform)\n",
    "\n",
    "\n",
    "# Split the provided training set in 85% for training set and 15% for validation set\n",
    "\n",
    "train_size = int(0.85 * len(train))\n",
    "val_size = len(train) - train_size\n",
    "\n",
    "dataset_train, dataset_val = random_split(train, [train_size, val_size])\n",
    "\n",
    "\n",
    "# Create the loaders\n",
    "\n",
    "batch_size = 32 # batch_size = 32 as required by the project\n",
    "train_loader = DataLoader(dataset_train, batch_size, shuffle=True) \n",
    "val_loader = DataLoader(dataset_val, batch_size, shuffle=False)\n",
    "test_loader = DataLoader(dataset_test, batch_size, shuffle=False)"
   ]
  },
  {
   "cell_type": "markdown",
   "metadata": {},
   "source": [
    "Let's instantiate a model..."
   ]
  },
  {
   "cell_type": "code",
   "execution_count": 4,
   "metadata": {},
   "outputs": [],
   "source": [
    "# Instantiate a model\n",
    "\n",
    "model = CNN()\n",
    "\n",
    "# Set parameters for the training\n",
    "\n",
    "learning_rate = 0.0005\n",
    "loss_function = nn.CrossEntropyLoss()\n",
    "optimizer = optim.SGD(model.parameters(), momentum=0.9, lr=learning_rate) # the momentum by default is 0, but I need it different from 0"
   ]
  },
  {
   "cell_type": "markdown",
   "metadata": {},
   "source": [
    "...and do the training:"
   ]
  },
  {
   "cell_type": "code",
   "execution_count": 5,
   "metadata": {},
   "outputs": [
    {
     "name": "stdout",
     "output_type": "stream",
     "text": [
      "EPOCH 1:\n",
      "LOSS: train: 2.7081405580043794, validation: 2.7080423831939697; accuracy validation set: 10.666666666666666%\n",
      "\n",
      "EPOCH 2:\n",
      "LOSS: train: 2.7079244017601014, validation: 2.7083287239074707; accuracy validation set: 7.555555555555555%\n",
      "\n",
      "EPOCH 3:\n",
      "LOSS: train: 2.7077725172042846, validation: 2.7083029747009277; accuracy validation set: 7.555555555555555%\n",
      "\n",
      "EPOCH 4:\n",
      "LOSS: train: 2.7076546967029573, validation: 2.7086310386657715; accuracy validation set: 4.0%\n",
      "\n",
      "EPOCH 5:\n",
      "LOSS: train: 2.7074990570545197, validation: 2.7086615562438965; accuracy validation set: 5.333333333333333%\n",
      "\n",
      "EPOCH 6:\n",
      "LOSS: train: 2.7072977662086486, validation: 2.708981990814209; accuracy validation set: 4.888888888888889%\n",
      "\n",
      "EPOCH 7:\n",
      "LOSS: train: 2.7069836139678953, validation: 2.7093095779418945; accuracy validation set: 4.888888888888889%\n",
      "\n",
      "EPOCH 8:\n",
      "LOSS: train: 2.7064767599105837, validation: 2.710216522216797; accuracy validation set: 5.777777777777778%\n",
      "\n",
      "EPOCH 9:\n",
      "LOSS: train: 2.7056257724761963, validation: 2.712294578552246; accuracy validation set: 4.888888888888889%\n",
      "\n",
      "EPOCH 10:\n",
      "LOSS: train: 2.703683948516846, validation: 2.715333938598633; accuracy validation set: 7.111111111111111%\n",
      "\n",
      "EPOCH 11:\n",
      "LOSS: train: 2.701845407485962, validation: 2.7227656841278076; accuracy validation set: 9.333333333333334%\n",
      "\n",
      "EPOCH 12:\n",
      "LOSS: train: 2.6965836584568024, validation: 2.7115061283111572; accuracy validation set: 6.666666666666667%\n",
      "\n",
      "EPOCH 13:\n",
      "LOSS: train: 2.67645777463913, validation: 2.619250535964966; accuracy validation set: 10.222222222222221%\n",
      "\n",
      "EPOCH 14:\n",
      "LOSS: train: 2.632483422756195, validation: 2.5958476066589355; accuracy validation set: 11.555555555555555%\n",
      "\n",
      "EPOCH 15:\n",
      "LOSS: train: 2.5702747762203217, validation: 2.509643316268921; accuracy validation set: 16.444444444444443%\n",
      "\n",
      "EPOCH 16:\n",
      "LOSS: train: 2.4826412558555604, validation: 2.464890241622925; accuracy validation set: 17.77777777777778%\n",
      "\n",
      "EPOCH 17:\n",
      "LOSS: train: 2.407157850265503, validation: 2.3717966079711914; accuracy validation set: 23.555555555555557%\n",
      "\n",
      "EPOCH 18:\n",
      "LOSS: train: 2.254359209537506, validation: 2.4151771068573; accuracy validation set: 24.0%\n",
      "\n",
      "EPOCH 19:\n",
      "LOSS: train: 2.198196920752525, validation: 2.3172779083251953; accuracy validation set: 24.0%\n",
      "\n",
      "EPOCH 20:\n",
      "LOSS: train: 2.046028861403465, validation: 2.165083646774292; accuracy validation set: 26.22222222222222%\n",
      "\n",
      "EPOCH 21:\n",
      "LOSS: train: 1.8996195852756501, validation: 2.3463287353515625; accuracy validation set: 24.88888888888889%\n",
      "\n",
      "EPOCH 22:\n",
      "LOSS: train: 1.7896651595830917, validation: 2.072272300720215; accuracy validation set: 27.555555555555557%\n",
      "\n",
      "EPOCH 23:\n",
      "LOSS: train: 1.5987475633621215, validation: 1.8874545097351074; accuracy validation set: 32.888888888888886%\n",
      "\n",
      "EPOCH 24:\n",
      "LOSS: train: 1.4543506622314453, validation: 1.9384419918060303; accuracy validation set: 31.555555555555557%\n",
      "\n",
      "EPOCH 25:\n",
      "LOSS: train: 1.3527718864381313, validation: 1.990181803703308; accuracy validation set: 31.11111111111111%\n",
      "\n",
      "EPOCH 26:\n",
      "LOSS: train: 1.097970426082611, validation: 2.1179375648498535; accuracy validation set: 32.44444444444444%\n",
      "\n",
      "EPOCH 27:\n",
      "LOSS: train: 0.9314418613910675, validation: 2.4476935863494873; accuracy validation set: 32.44444444444444%\n",
      "\n",
      "EPOCH 28:\n",
      "LOSS: train: 0.655558381229639, validation: 2.5729193687438965; accuracy validation set: 32.44444444444444%\n",
      "\n",
      "EPOCH 29:\n",
      "LOSS: train: 0.5279278334230184, validation: 2.986454486846924; accuracy validation set: 33.333333333333336%\n",
      "\n",
      "EPOCH 30:\n",
      "LOSS: train: 0.47729519233107565, validation: 3.3204283714294434; accuracy validation set: 33.77777777777778%\n",
      "\n",
      "EPOCH 31:\n",
      "LOSS: train: 0.3107455587014556, validation: 3.2498230934143066; accuracy validation set: 31.11111111111111%\n",
      "\n",
      "EPOCH 32:\n",
      "LOSS: train: 0.30826698187738655, validation: 3.9367868900299072; accuracy validation set: 28.0%\n",
      "\n",
      "EPOCH 33:\n",
      "LOSS: train: 0.24227367863059043, validation: 4.316967487335205; accuracy validation set: 28.88888888888889%\n",
      "\n",
      "EPOCH 34:\n",
      "LOSS: train: 0.19568082308396698, validation: 4.285436153411865; accuracy validation set: 28.0%\n",
      "\n",
      "EPOCH 35:\n",
      "LOSS: train: 0.15520923510193824, validation: 4.86747932434082; accuracy validation set: 31.555555555555557%\n",
      "\n",
      "EPOCH 36:\n",
      "LOSS: train: 0.11827527075074613, validation: 4.866331577301025; accuracy validation set: 31.555555555555557%\n",
      "\n",
      "EPOCH 37:\n",
      "LOSS: train: 0.1476481901947409, validation: 5.039783477783203; accuracy validation set: 30.22222222222222%\n",
      "\n",
      "EPOCH 38:\n",
      "LOSS: train: 0.10352425752207636, validation: 5.515049457550049; accuracy validation set: 28.88888888888889%\n",
      "\n",
      "EPOCH 39:\n",
      "LOSS: train: 0.060199742822442205, validation: 5.579556465148926; accuracy validation set: 29.333333333333332%\n",
      "\n",
      "EPOCH 40:\n",
      "LOSS: train: 0.038554540695622565, validation: 5.726771831512451; accuracy validation set: 28.88888888888889%\n",
      "\n"
     ]
    }
   ],
   "source": [
    "# Method to train for just one epoch\n",
    "\n",
    "def train_one_epoch(epoch_index, model, loader, optimizer, loss_function): # to train for just one epoch (one epoch: the network sees the whole training set)\n",
    "    running_loss = 0.\n",
    "\n",
    "    for i, data in enumerate(loader):\n",
    "\n",
    "        inputs, labels = data # get the minibatch\n",
    "\n",
    "        outputs = model(inputs) # forward pass\n",
    "\n",
    "        loss = loss_function(outputs, labels) # compute the loss\n",
    "        running_loss += loss.item() # sum up the loss for the minibatches processed so far\n",
    "\n",
    "        optimizer.zero_grad() # notice that by default, the gradients are accumulated, hence we need to set them to zero\n",
    "        loss.backward() # backward pass\n",
    "        optimizer.step() # update the weights\n",
    "\n",
    "    return running_loss/(i+1) # average loss per minibatch\n",
    "\n",
    "\n",
    "\n",
    "\n",
    "# Method to do the training\n",
    "\n",
    "def train_model(model, EPOCHS, train_loader, val_loader, optimizer, loss_function):\n",
    "\n",
    "    best_validation_loss = np.inf\n",
    "\n",
    "    loss_train = [] # store the values of the loss for the training set\n",
    "    loss_val = [] # store the values of the loss for the validation set\n",
    "    accuracies_val = [] # store the values of the accuracy for the validation set\n",
    "\n",
    "    for epoch in range(EPOCHS):\n",
    "        print('EPOCH {}:'.format(epoch + 1))\n",
    "\n",
    "        # Make sure gradient tracking is on, and do a pass over the data\n",
    "        model.train(True)\n",
    "        train_loss = train_one_epoch(epoch, model, train_loader, optimizer, loss_function)\n",
    "        loss_train.append(train_loss)\n",
    "\n",
    "        running_validation_loss = 0.0\n",
    "\n",
    "        # If using dropout and/or batch normalization, we need the following, to set the model to evaluation mode, disabling dropout and using population\n",
    "        # statistics for batch normalization.\n",
    "        model.eval()\n",
    "\n",
    "\n",
    "        correct = 0\n",
    "        total = 0\n",
    "\n",
    "        with torch.no_grad():      # disable gradient computation and reduce memory consumption\n",
    "            for i, vdata in enumerate(val_loader):\n",
    "                vinputs, vlabels = vdata\n",
    "                voutputs = model(vinputs)\n",
    "                vloss = loss_function(voutputs, vlabels)\n",
    "                running_validation_loss += vloss\n",
    "                _, predicted = torch.max(voutputs.data, 1)\n",
    "                total += vlabels.size(0)\n",
    "                correct += (predicted == vlabels).sum().item()\n",
    "        \n",
    "        accuracy = 100 * correct / total\n",
    "        accuracies_val.append(accuracy)\n",
    "\n",
    "        validation_loss = running_validation_loss / (i + 1) # average validation loss per minibatch\n",
    "        loss_val.append(validation_loss)\n",
    "        \n",
    "        print('LOSS: train: {}, validation: {}; accuracy validation set: {}%\\n'.format(train_loss, validation_loss, accuracy))\n",
    "\n",
    "\n",
    "        # Track best performance (based on validation), and save the model\n",
    "        if validation_loss < best_validation_loss:\n",
    "            timestamp = datetime.now().strftime('%Y%m%d_%H%M%S')\n",
    "            best_validation_loss = validation_loss\n",
    "            model_path = 'model_{}_{}'.format(timestamp, epoch)\n",
    "            torch.save(model.state_dict(), model_path)\n",
    "\n",
    "    return model_path, loss_train, loss_val, accuracies_val\n",
    "\n",
    "\n",
    "\n",
    "# Perform the training\n",
    "model_path, loss_train, loss_val, accuracies_val = train_model(model = model, EPOCHS = 40, train_loader = train_loader, val_loader = val_loader, optimizer = optimizer, loss_function = loss_function)\n",
    "\n"
   ]
  },
  {
   "cell_type": "markdown",
   "metadata": {},
   "source": [
    "Here, the training is performed with the support of a validation set so that, during the training, the generalisation capability of the current network can be estimated. The analysis keeps going until the number of epochs that has been set is reached.\n",
    "However, the algorithm compares the model at the current epoch with the best model previously obtained, where the performances are based on the validation loss. At the end, the more recent model will be the optimal one among those that had been tested."
   ]
  },
  {
   "cell_type": "markdown",
   "metadata": {},
   "source": [
    "Let's have a look at the plot of the loss during the training:"
   ]
  },
  {
   "cell_type": "code",
   "execution_count": 6,
   "metadata": {},
   "outputs": [
    {
     "data": {
      "image/png": "[encoded data removed]",
      "text/plain": [
       "<Figure size 640x480 with 1 Axes>"
      ]
     },
     "metadata": {},
     "output_type": "display_data"
    }
   ],
   "source": [
    "epochs = list(range(1, len(loss_train) + 1)) # epochs started from 0\n",
    "\n",
    "plt.plot(epochs, loss_train, label='Training loss')\n",
    "plt.plot(epochs, loss_val, label='Validation loss')\n",
    "plt.title('Training and validation loss over epochs')\n",
    "plt.xlabel('Epoch')\n",
    "plt.ylabel('Loss')\n",
    "plt.legend()\n",
    "plt.show()\n"
   ]
  },
  {
   "cell_type": "markdown",
   "metadata": {},
   "source": [
    "As expected, since the network is trained on a specific train set over and over, the loss associated to this set keeps decreasing. On the other hand, the tests done on a separate set, the validation set, report an increase of the loss."
   ]
  },
  {
   "cell_type": "markdown",
   "metadata": {},
   "source": [
    "Here it is the plot on the validation accuracy:"
   ]
  },
  {
   "cell_type": "code",
   "execution_count": 7,
   "metadata": {},
   "outputs": [
    {
     "data": {
      "image/png": "[encoded data removed]",
      "text/plain": [
       "<Figure size 640x480 with 1 Axes>"
      ]
     },
     "metadata": {},
     "output_type": "display_data"
    }
   ],
   "source": [
    "plt.plot(epochs, accuracies_val, color='orange', label='Validation accuracy')\n",
    "plt.title('Validation accuracy')\n",
    "plt.xlabel('Epoch')\n",
    "plt.ylabel('Accuracy [%]')\n",
    "plt.legend()\n",
    "plt.show()"
   ]
  },
  {
   "cell_type": "markdown",
   "metadata": {},
   "source": [
    "The more the network is trained the more it is expected to perform correctly. In this graph, one can observe that the accuracy associated to the validation set increases; however, it shows an oscillating trend."
   ]
  },
  {
   "cell_type": "markdown",
   "metadata": {},
   "source": [
    "Let's evaluate the accuracy on the test set:"
   ]
  },
  {
   "cell_type": "code",
   "execution_count": 8,
   "metadata": {},
   "outputs": [
    {
     "name": "stdout",
     "output_type": "stream",
     "text": [
      "Accuracy of the network on the test images: 30 %\n"
     ]
    },
    {
     "data": {
      "text/plain": [
       "<Axes: >"
      ]
     },
     "execution_count": 8,
     "metadata": {},
     "output_type": "execute_result"
    },
    {
     "data": {
      "image/png": "[encoded data removed]",
      "text/plain": [
       "<Figure size 500x500 with 2 Axes>"
      ]
     },
     "metadata": {},
     "output_type": "display_data"
    }
   ],
   "source": [
    "# Evaluate the trained network on the test set, and collect the infos for the confusion matrix\n",
    "\n",
    "correct_test = 0\n",
    "total_test = 0\n",
    "\n",
    "y_pred = []\n",
    "y_true = []\n",
    "\n",
    "with torch.no_grad():\n",
    "\n",
    "    for data in test_loader:\n",
    "        images, labels = data\n",
    "        outputs = model(images)\n",
    "        _, predicted = torch.max(outputs.data, 1)\n",
    "        total_test += labels.size(0)\n",
    "        correct_test += (predicted == labels).sum().item()\n",
    "\n",
    "        y_pred.extend(predicted)\n",
    "        y_true.extend(labels) \n",
    "\n",
    "\n",
    "accuracy_test = 100 * correct_test / total_test\n",
    "print('Accuracy of the network on the test images: %d %%' % (accuracy_test))\n",
    "\n",
    "# Build confusion matrix\n",
    "classes = dataset_test.classes\n",
    "cf_matrix = confusion_matrix(y_true, y_pred)\n",
    "df_cm = pd.DataFrame(cf_matrix / np.sum(cf_matrix, axis=1)[:, None], index = [i for i in classes],\n",
    "                     columns = [i for i in classes])\n",
    "plt.figure(figsize = (5,5))\n",
    "sn.heatmap(df_cm, annot=False)\n",
    "#plt.savefig('output.png')"
   ]
  },
  {
   "cell_type": "markdown",
   "metadata": {},
   "source": [
    "## Task 2 <a class=\"anchor\" id=\"2-bullet\"></a>"
   ]
  },
  {
   "cell_type": "markdown",
   "metadata": {},
   "source": [
    "The previous result can be improved using some techniques, that will be applied one after the other cumulatively."
   ]
  },
  {
   "cell_type": "markdown",
   "metadata": {},
   "source": [
    "### Data augmentation <a class=\"anchor\" id=\"data-aug\"></a>"
   ]
  },
  {
   "cell_type": "markdown",
   "metadata": {},
   "source": [
    "The only difference with the original version is the train/validation dataset: \"new\" images are added to the initial training and validation dataset. The \"new\" images are simply the left-to-right reflections of the original train/validation dataset."
   ]
  },
  {
   "cell_type": "code",
   "execution_count": 12,
   "metadata": {},
   "outputs": [],
   "source": [
    "torch.manual_seed(3)\n",
    "\n",
    "# Load the dataset\n",
    "\n",
    "train_path = '/Users/Gaia/Desktop/CVPR-project/CVPR-project/data/train'\n",
    "test_path = '/Users/Gaia/Desktop/CVPR-project/CVPR-project/data/test'\n",
    "\n",
    "train = ImageFolder(root=train_path, transform=transform)\n",
    "dataset_test = ImageFolder(root=test_path, transform=transform)\n",
    "\n",
    "\n",
    "# Split the provided training set in 85% for training set and 15% for validation set\n",
    "\n",
    "train_size = int(0.85 * len(train))\n",
    "val_size = len(train) - train_size\n",
    "\n",
    "dataset_train, dataset_val = random_split(train, [train_size, val_size])\n",
    "\n",
    "\n",
    "# Data augmentation for the train dataset\n",
    "\n",
    "class HorizontallyFlippedDataset(Dataset):\n",
    "    def __init__(self, original_dataset):\n",
    "        self.original_dataset = original_dataset\n",
    "        self.horizontal_flip_transform = transforms.RandomHorizontalFlip()\n",
    "\n",
    "    def __getitem__(self, index):\n",
    "        image, label = self.original_dataset[index]\n",
    "        flipped_image = self.horizontal_flip_transform(image)\n",
    "        return flipped_image, label\n",
    "\n",
    "    def __len__(self):\n",
    "        return len(self.original_dataset)\n",
    "\n",
    "\n",
    "\n",
    "flipped_dataset_train = HorizontallyFlippedDataset(dataset_train)\n",
    "data_augmentation_dataset_train = torch.utils.data.ConcatDataset([dataset_train, flipped_dataset_train])\n",
    "\n",
    "\n",
    "# Create the loaders\n",
    "\n",
    "batch_size = 32\n",
    "data_augmentation_train_loader = DataLoader(data_augmentation_dataset_train, batch_size, shuffle=True) \n",
    "val_loader = DataLoader(dataset_val, batch_size, shuffle=False)\n",
    "test_loader = DataLoader(dataset_test, batch_size, shuffle=False)"
   ]
  },
  {
   "cell_type": "markdown",
   "metadata": {},
   "source": [
    "Now let's instantiate the model and perform the training:"
   ]
  },
  {
   "cell_type": "code",
   "execution_count": 13,
   "metadata": {},
   "outputs": [
    {
     "name": "stdout",
     "output_type": "stream",
     "text": [
      "EPOCH 1:\n",
      "LOSS: train: 2.707371953129768, validation: 2.7098236083984375; accuracy validation set: 5.777777777777778%\n",
      "\n",
      "EPOCH 2:\n",
      "LOSS: train: 2.701735556125641, validation: 2.719569683074951; accuracy validation set: 5.777777777777778%\n",
      "\n",
      "EPOCH 3:\n",
      "LOSS: train: 2.6715938568115236, validation: 2.6666066646575928; accuracy validation set: 9.333333333333334%\n",
      "\n",
      "EPOCH 4:\n",
      "LOSS: train: 2.5955696046352386, validation: 2.6293821334838867; accuracy validation set: 17.77777777777778%\n",
      "\n",
      "EPOCH 5:\n",
      "LOSS: train: 2.509810966253281, validation: 2.5342445373535156; accuracy validation set: 16.444444444444443%\n",
      "\n",
      "EPOCH 6:\n",
      "LOSS: train: 2.4723249971866608, validation: 2.5910253524780273; accuracy validation set: 17.333333333333332%\n",
      "\n",
      "EPOCH 7:\n",
      "LOSS: train: 2.4069895058870316, validation: 2.564208745956421; accuracy validation set: 20.444444444444443%\n",
      "\n",
      "EPOCH 8:\n",
      "LOSS: train: 2.209269958734512, validation: 2.5260164737701416; accuracy validation set: 21.77777777777778%\n",
      "\n",
      "EPOCH 9:\n",
      "LOSS: train: 2.239325587451458, validation: 2.4707937240600586; accuracy validation set: 28.0%\n",
      "\n",
      "EPOCH 10:\n",
      "LOSS: train: 1.9345374673604965, validation: 2.394742250442505; accuracy validation set: 26.666666666666668%\n",
      "\n",
      "EPOCH 11:\n",
      "LOSS: train: 1.8031787648797035, validation: 2.595730781555176; accuracy validation set: 28.0%\n",
      "\n",
      "EPOCH 12:\n",
      "LOSS: train: 1.611494852602482, validation: 2.392702579498291; accuracy validation set: 30.22222222222222%\n",
      "\n",
      "EPOCH 13:\n",
      "LOSS: train: 1.488745766878128, validation: 2.4143052101135254; accuracy validation set: 32.44444444444444%\n",
      "\n",
      "EPOCH 14:\n",
      "LOSS: train: 1.3046876572072506, validation: 2.614915132522583; accuracy validation set: 32.888888888888886%\n",
      "\n",
      "EPOCH 15:\n",
      "LOSS: train: 1.1686652429401874, validation: 2.9115781784057617; accuracy validation set: 30.666666666666668%\n",
      "\n",
      "EPOCH 16:\n",
      "LOSS: train: 1.019689853489399, validation: 3.0857362747192383; accuracy validation set: 31.555555555555557%\n",
      "\n",
      "EPOCH 17:\n",
      "LOSS: train: 0.8970278568565846, validation: 3.2038731575012207; accuracy validation set: 31.11111111111111%\n",
      "\n",
      "EPOCH 18:\n",
      "LOSS: train: 0.8684921082109213, validation: 3.749711751937866; accuracy validation set: 28.0%\n",
      "\n",
      "EPOCH 19:\n",
      "LOSS: train: 0.7147919829934836, validation: 4.01689338684082; accuracy validation set: 31.11111111111111%\n",
      "\n",
      "EPOCH 20:\n",
      "LOSS: train: 0.6375579722225666, validation: 3.763047695159912; accuracy validation set: 36.0%\n",
      "\n",
      "EPOCH 21:\n",
      "LOSS: train: 0.5355341536924243, validation: 3.886345624923706; accuracy validation set: 32.44444444444444%\n",
      "\n",
      "EPOCH 22:\n",
      "LOSS: train: 0.47990480475127695, validation: 4.439067840576172; accuracy validation set: 32.44444444444444%\n",
      "\n",
      "EPOCH 23:\n",
      "LOSS: train: 0.3828981019556522, validation: 5.1681294441223145; accuracy validation set: 30.666666666666668%\n",
      "\n",
      "EPOCH 24:\n",
      "LOSS: train: 0.43392016310244796, validation: 4.8236212730407715; accuracy validation set: 30.22222222222222%\n",
      "\n",
      "EPOCH 25:\n",
      "LOSS: train: 0.31225214852020144, validation: 5.139143943786621; accuracy validation set: 32.888888888888886%\n",
      "\n",
      "EPOCH 26:\n",
      "LOSS: train: 0.27594090714119374, validation: 5.07772970199585; accuracy validation set: 33.333333333333336%\n",
      "\n",
      "EPOCH 27:\n",
      "LOSS: train: 0.25226473337970673, validation: 6.476831436157227; accuracy validation set: 33.333333333333336%\n",
      "\n",
      "EPOCH 28:\n",
      "LOSS: train: 0.19268941385671495, validation: 6.514103412628174; accuracy validation set: 36.44444444444444%\n",
      "\n",
      "EPOCH 29:\n",
      "LOSS: train: 0.1994167657569051, validation: 6.203956604003906; accuracy validation set: 33.77777777777778%\n",
      "\n",
      "EPOCH 30:\n",
      "LOSS: train: 0.1544062784872949, validation: 5.659565448760986; accuracy validation set: 32.44444444444444%\n",
      "\n",
      "EPOCH 31:\n",
      "LOSS: train: 0.16456107632257044, validation: 7.161373138427734; accuracy validation set: 33.333333333333336%\n",
      "\n",
      "EPOCH 32:\n",
      "LOSS: train: 0.11505171058233828, validation: 7.314748287200928; accuracy validation set: 32.44444444444444%\n",
      "\n",
      "EPOCH 33:\n",
      "LOSS: train: 0.14891724399058148, validation: 6.934244155883789; accuracy validation set: 32.44444444444444%\n",
      "\n",
      "EPOCH 34:\n",
      "LOSS: train: 0.09275212344364263, validation: 7.385644435882568; accuracy validation set: 32.0%\n",
      "\n",
      "EPOCH 35:\n",
      "LOSS: train: 0.11420511287869886, validation: 7.646665096282959; accuracy validation set: 35.55555555555556%\n",
      "\n",
      "EPOCH 36:\n",
      "LOSS: train: 0.08655579358455726, validation: 7.104153633117676; accuracy validation set: 35.111111111111114%\n",
      "\n",
      "EPOCH 37:\n",
      "LOSS: train: 0.058335386938415466, validation: 7.663976669311523; accuracy validation set: 30.22222222222222%\n",
      "\n",
      "EPOCH 38:\n",
      "LOSS: train: 0.05908864289522171, validation: 7.547632694244385; accuracy validation set: 34.22222222222222%\n",
      "\n",
      "EPOCH 39:\n",
      "LOSS: train: 0.07008991401526146, validation: 8.238079071044922; accuracy validation set: 32.44444444444444%\n",
      "\n",
      "EPOCH 40:\n",
      "LOSS: train: 0.1497026369383093, validation: 7.453657150268555; accuracy validation set: 29.333333333333332%\n",
      "\n"
     ]
    }
   ],
   "source": [
    "# Instantiate a model\n",
    "\n",
    "model_data_augmentation = CNN()\n",
    "\n",
    "\n",
    "# Set parameters for the training\n",
    "\n",
    "learning_rate = 0.0005\n",
    "loss_function = nn.CrossEntropyLoss()\n",
    "optimizer = optim.SGD(model_data_augmentation.parameters(), momentum=0.9, lr=learning_rate) # the momentum by default is 0, but I need it different from 0\n",
    "\n",
    "# Perform the training\n",
    "model_path, data_augmentation_loss_train, data_augmentation_loss_val, data_augmentation_accuracies_val = train_model(model = model_data_augmentation, EPOCHS = 40, train_loader = data_augmentation_train_loader, val_loader = val_loader, optimizer = optimizer, loss_function = loss_function)"
   ]
  },
  {
   "cell_type": "code",
   "execution_count": 14,
   "metadata": {},
   "outputs": [
    {
     "name": "stdout",
     "output_type": "stream",
     "text": [
      "Accuracy of the network on the test images: 27 %\n"
     ]
    }
   ],
   "source": [
    "# Evaluate the trained network on the test set\n",
    "\n",
    "correct_test = 0\n",
    "total_test = 0\n",
    "\n",
    "y_pred = []\n",
    "y_true = []\n",
    "\n",
    "with torch.no_grad():\n",
    "    model_data_augmentation.load_state_dict(torch.load(model_path))\n",
    "    model.eval()\n",
    "    \n",
    "    for data in test_loader:\n",
    "        images, labels = data\n",
    "        outputs = model_data_augmentation(images)\n",
    "        _, predicted = torch.max(outputs.data, 1)\n",
    "        total_test += labels.size(0)\n",
    "        correct_test += (predicted == labels).sum().item()\n",
    "\n",
    "        y_pred.extend(predicted)\n",
    "        y_true.extend(labels) \n",
    "\n",
    "\n",
    "accuracy_test = 100 * correct_test / total_test\n",
    "print('Accuracy of the network on the test images: %d %%' % (accuracy_test))"
   ]
  },
  {
   "cell_type": "markdown",
   "metadata": {},
   "source": [
    "## Task 3 <a class=\"anchor\" id=\"3-bullet\"></a>"
   ]
  },
  {
   "cell_type": "code",
   "execution_count": null,
   "metadata": {},
   "outputs": [],
   "source": []
  },
  {
   "cell_type": "markdown",
   "metadata": {},
   "source": [
    "## References <a class=\"anchor\" id=\"ref\"></a>"
   ]
  },
  {
   "cell_type": "markdown",
   "metadata": {},
   "source": [
    "[1] https://dingyan89.medium.com/calculating-parameters-of-convolutional-and-fully-connected-layers-with-keras-186590df36c6"
   ]
  }
 ],
 "metadata": {
  "kernelspec": {
   "display_name": "Python 3",
   "language": "python",
   "name": "python3"
  },
  "language_info": {
   "codemirror_mode": {
    "name": "ipython",
    "version": 3
   },
   "file_extension": ".py",
   "mimetype": "text/x-python",
   "name": "python",
   "nbconvert_exporter": "python",
   "pygments_lexer": "ipython3",
   "version": "3.11.5"
  }
 },
 "nbformat": 4,
 "nbformat_minor": 2
}
