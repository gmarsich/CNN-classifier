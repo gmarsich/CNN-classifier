{
 "cells": [
  {
   "cell_type": "markdown",
   "metadata": {},
   "source": [
    "# convert_images"
   ]
  },
  {
   "cell_type": "markdown",
   "metadata": {},
   "source": [
    "This notebook has been created to convert and save the images in such a way that their dimensions are 64x64, as asked by the network. In this way, it is sufficient to do the work just once."
   ]
  },
  {
   "cell_type": "code",
   "execution_count": 1,
   "metadata": {},
   "outputs": [
    {
     "name": "stdout",
     "output_type": "stream",
     "text": [
      "Resizing and saving of the test images complete.\n",
      "Resizing and saving of the train images complete.\n"
     ]
    }
   ],
   "source": [
    "import os\n",
    "from torchvision import transforms\n",
    "from torchvision.datasets import ImageFolder\n",
    "\n",
    "original_data_path_test = '/Users/Gaia/Desktop/CVPR-project/CVPR-project/data/test'\n",
    "original_data_path_train = '/Users/Gaia/Desktop/CVPR-project/CVPR-project/data/train'\n",
    "\n",
    "resized_data_path_test = '/Users/Gaia/Desktop/CVPR-project/CVPR-project/resized/test'\n",
    "resized_data_path_train = '/Users/Gaia/Desktop/CVPR-project/CVPR-project/resized/train'\n",
    "\n",
    "# Create a custom transformation\n",
    "transform = transforms.Compose([\n",
    "    transforms.Resize((64, 64)),\n",
    "    transforms.ToTensor(),\n",
    "])\n",
    "\n",
    "\n",
    "# TEST\n",
    "# Create ImageFolder dataset with the original dataset and the custom transformation\n",
    "dataset_test = ImageFolder(root=original_data_path_test, transform=transform)\n",
    "\n",
    "# Create a DataLoader for iterating through the dataset\n",
    "for index, (image, label) in enumerate(dataset_test):\n",
    "    # Create the corresponding folder structure in the resized directory\n",
    "    label_folder = os.path.join(resized_data_path_test, dataset_test.classes[label])\n",
    "    os.makedirs(label_folder, exist_ok=True)\n",
    "\n",
    "    # Use the original image path to extract the filename\n",
    "    filename, _ = dataset_test.samples[index]\n",
    "\n",
    "    # Save the resized image to the new location\n",
    "    resized_path = os.path.join(label_folder, os.path.basename(filename))\n",
    "    transforms.functional.to_pil_image(image).save(resized_path, format='JPEG')\n",
    "\n",
    "print(\"Resizing and saving of the test images complete.\")\n",
    "\n",
    "\n",
    "\n",
    "# TRAIN\n",
    "# Create ImageFolder dataset with the original dataset and the custom transformation\n",
    "dataset_train = ImageFolder(root=original_data_path_train, transform=transform)\n",
    "\n",
    "# Create a DataLoader for iterating through the dataset\n",
    "for index, (image, label) in enumerate(dataset_train):\n",
    "    # Create the corresponding folder structure in the resized directory\n",
    "    label_folder = os.path.join(resized_data_path_train, dataset_train.classes[label])\n",
    "    os.makedirs(label_folder, exist_ok=True)\n",
    "\n",
    "    # Use the original image path to extract the filename\n",
    "    filename, _ = dataset_train.samples[index]\n",
    "\n",
    "    # Save the resized image to the new location\n",
    "    resized_path = os.path.join(label_folder, os.path.basename(filename))\n",
    "    transforms.functional.to_pil_image(image).save(resized_path, format='JPEG')\n",
    "\n",
    "print(\"Resizing and saving of the train images complete.\")\n"
   ]
  }
 ],
 "metadata": {
  "kernelspec": {
   "display_name": "Python 3",
   "language": "python",
   "name": "python3"
  },
  "language_info": {
   "codemirror_mode": {
    "name": "ipython",
    "version": 3
   },
   "file_extension": ".py",
   "mimetype": "text/x-python",
   "name": "python",
   "nbconvert_exporter": "python",
   "pygments_lexer": "ipython3",
   "version": "3.11.5"
  }
 },
 "nbformat": 4,
 "nbformat_minor": 2
}
